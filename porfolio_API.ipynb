{
 "cells": [
  {
   "cell_type": "code",
   "execution_count": 1,
   "metadata": {},
   "outputs": [
    {
     "name": "stdout",
     "output_type": "stream",
     "text": [
      "<Response [200]>\n"
     ]
    }
   ],
   "source": [
    "import pandas as pd\n",
    "from bs4 import BeautifulSoup\n",
    "import requests\n",
    "\n",
    "query,url = 'Junior', 'https://www.profession.hu/'\n",
    "# Send an HTTP GET request to the webpage\n",
    "response = requests.get(url)\n",
    "print(response)\n",
    "# Check if the request was successful (status code 200)\n",
    "if response.status_code == 200:\n",
    "    # Parse the HTML content of the webpage\n",
    "    soup = BeautifulSoup(response.text, 'html.parser')\n",
    "\n",
    "    # Perform the search using BeautifulSoup's find or find_all methods\n",
    "    # For example, let's find all the occurrences of the query in the webpage\n",
    "    search_results = soup.find_all(string=lambda text: query.lower() in text.lower())\n",
    "\n",
    "    # Print the search results\n",
    "    for result in search_results:\n",
    "        print(result)\n",
    "else:\n",
    "    print(f\"Error: Unable to fetch the webpage. Status code: {response.status_code}\")\n"
   ]
  },
  {
   "cell_type": "code",
   "execution_count": 9,
   "metadata": {},
   "outputs": [],
   "source": [
    "search_webpage('Junior', 'https://www.profession.hu/')\n",
    "\n"
   ]
  },
  {
   "cell_type": "code",
   "execution_count": 1,
   "metadata": {},
   "outputs": [
    {
     "ename": "SyntaxError",
     "evalue": "unexpected EOF while parsing (<ipython-input-1-e0a646c1b0bd>, line 9)",
     "output_type": "error",
     "traceback": [
      "\u001b[1;36m  File \u001b[1;32m\"<ipython-input-1-e0a646c1b0bd>\"\u001b[1;36m, line \u001b[1;32m9\u001b[0m\n\u001b[1;33m    e.send_keys(Keys.ENTER\u001b[0m\n\u001b[1;37m                          ^\u001b[0m\n\u001b[1;31mSyntaxError\u001b[0m\u001b[1;31m:\u001b[0m unexpected EOF while parsing\n"
     ]
    }
   ],
   "source": [
    "from selenium import webdriver\n",
    "from selenium.webdriver.common.keys import Keys\n",
    "d = webdriver.Chrome('/path/to/chromedriver')\n",
    "books = ['9780062457738']\n",
    "for book in books:\n",
    "  d.get('https://www.bol.com/nl/')\n",
    "  e = d.find_element_by_id('searchfor')\n",
    "  e.send_keys(book)\n",
    "  e.send_keys(Keys.ENTER)"
   ]
  }
 ],
 "metadata": {
  "kernelspec": {
   "display_name": "Python 3",
   "language": "python",
   "name": "python3"
  },
  "language_info": {
   "codemirror_mode": {
    "name": "ipython",
    "version": 3
   },
   "file_extension": ".py",
   "mimetype": "text/x-python",
   "name": "python",
   "nbconvert_exporter": "python",
   "pygments_lexer": "ipython3",
   "version": "3.8.8"
  }
 },
 "nbformat": 4,
 "nbformat_minor": 2
}
